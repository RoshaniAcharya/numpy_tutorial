{
 "cells": [
  {
   "cell_type": "code",
   "execution_count": 8,
   "metadata": {
    "collapsed": false
   },
   "outputs": [
    {
     "name": "stdout",
     "output_type": "stream",
     "text": [
      "['instant', 'dteday', 'season', 'yr', 'mnth', 'hr', 'holiday', 'weekday', 'workingday', 'weathersit', 'temp', 'atemp', 'hum', 'windspeed', 'casual', 'registered', 'cnt']\n",
      "['1', '2011-01-01', '1', '0', '1', '0', '0', '6', '0', '1', '0.24', '0.2879', '0.81', '0', '3', '13', '16']\n"
     ]
    }
   ],
   "source": [
    "import csv\n",
    "import matplotlib.pyplot as plt\n",
    "f = open(r'C:\\Users\\Dell\\Bike-Sharing-Dataset\\hour.csv','r')\n",
    "data = list(csv.reader(f))\n",
    "\n",
    "print(data[0])\n",
    "print(data[1])\n",
    "\n",
    "\n",
    "\n"
   ]
  },
  {
   "cell_type": "code",
   "execution_count": 3,
   "metadata": {
    "collapsed": false
   },
   "outputs": [
    {
     "name": "stdout",
     "output_type": "stream",
     "text": [
      "[[  1.00000000e+00   2.01101010e+07   1.00000000e+00   0.00000000e+00\n",
      "    1.00000000e+00   0.00000000e+00   0.00000000e+00   6.00000000e+00\n",
      "    0.00000000e+00   1.00000000e+00   2.40000000e-01   2.87900000e-01\n",
      "    8.10000000e-01   0.00000000e+00   3.00000000e+00   1.30000000e+01\n",
      "    1.60000000e+01]\n",
      " [  2.00000000e+00   2.01101010e+07   1.00000000e+00   0.00000000e+00\n",
      "    1.00000000e+00   1.00000000e+00   0.00000000e+00   6.00000000e+00\n",
      "    0.00000000e+00   1.00000000e+00   2.20000000e-01   2.72700000e-01\n",
      "    8.00000000e-01   0.00000000e+00   8.00000000e+00   3.20000000e+01\n",
      "    4.00000000e+01]\n",
      " [  3.00000000e+00   2.01101010e+07   1.00000000e+00   0.00000000e+00\n",
      "    1.00000000e+00   2.00000000e+00   0.00000000e+00   6.00000000e+00\n",
      "    0.00000000e+00   1.00000000e+00   2.20000000e-01   2.72700000e-01\n",
      "    8.00000000e-01   0.00000000e+00   5.00000000e+00   2.70000000e+01\n",
      "    3.20000000e+01]]\n"
     ]
    }
   ],
   "source": [
    "import numpy as np\n",
    "\n",
    "for each in data[1:]:\n",
    "    each[1] = each[1].replace(\"-\",\"\")\n",
    "    \n",
    "data2 = np.array(data[1:],dtype=np.float)\n",
    "print(data2[:3])"
   ]
  },
  {
   "cell_type": "code",
   "execution_count": 9,
   "metadata": {
    "collapsed": false
   },
   "outputs": [
    {
     "data": {
      "image/png": "[encoded data removed]",
      "text/plain": [
       "<matplotlib.figure.Figure at 0x67caab0>"
      ]
     },
     "metadata": {},
     "output_type": "display_data"
    }
   ],
   "source": [
    "data_hours={}\n",
    "for i in range(24):\n",
    "    data_hours[i]=np.array([d for d in data2 if d[5]==i])[:,-1].mean()\n",
    "plt.bar(list(data_hours.keys()),list(data_hours.values()))\n",
    "plt.xticks(list(data_hours.keys()),rotation=20)\n",
    "plt.title(\"average bike rents per hour\")\n",
    "plt.show()"
   ]
  },
  {
   "cell_type": "code",
   "execution_count": 13,
   "metadata": {
    "collapsed": false
   },
   "outputs": [
    {
     "data": {
      "image/png": "[encoded data removed]",
      "text/plain": [
       "<matplotlib.figure.Figure at 0x573ab90>"
      ]
     },
     "metadata": {},
     "output_type": "display_data"
    }
   ],
   "source": [
    "data_hours={}\n",
    "for i in range(24):\n",
    "    data_hours[i]=np.array([d for d in data2 if d[5]==i and d[8]==0])[:,-1].mean()\n",
    "plt.bar(list(data_hours.keys()),list(data_hours.values()))\n",
    "plt.xticks(list(data_hours.keys()),rotation=20)\n",
    "plt.title(\"average bike rents per hour\")\n",
    "plt.show()"
   ]
  },
  {
   "cell_type": "code",
   "execution_count": 15,
   "metadata": {
    "collapsed": false
   },
   "outputs": [
    {
     "data": {
      "image/png": "[encoded data removed]",
      "text/plain": [
       "<matplotlib.figure.Figure at 0x5773b10>"
      ]
     },
     "metadata": {},
     "output_type": "display_data"
    }
   ],
   "source": [
    "data_hours={}\n",
    "for i in range(24):\n",
    "    data_hours[i]=np.array([d for d in data2 if d[5]==i and d[8]==1])[:,-1].mean()\n",
    "plt.bar(list(data_hours.keys()),list(data_hours.values()))\n",
    "plt.xticks(list(data_hours.keys()),rotation=20)\n",
    "plt.title(\"average bike rents per hour in weekend\")\n",
    "plt.show()"
   ]
  },
  {
   "cell_type": "code",
   "execution_count": 22,
   "metadata": {
    "collapsed": false
   },
   "outputs": [
    {
     "data": {
      "text/plain": [
       "3487.0"
      ]
     },
     "execution_count": 22,
     "metadata": {},
     "output_type": "execute_result"
    }
   ],
   "source": [
    "#data2[:3] 20120224\n",
    "s = 0\n",
    "for d in data2:\n",
    "    if d[1]==20120224:\n",
    "        s+=(d[-1])\n",
    "s\n",
    "    \n",
    "    "
   ]
  },
  {
   "cell_type": "code",
   "execution_count": null,
   "metadata": {
    "collapsed": true
   },
   "outputs": [],
   "source": []
  }
 ],
 "metadata": {
  "kernelspec": {
   "display_name": "Python 3",
   "language": "python",
   "name": "python3"
  },
  "language_info": {
   "codemirror_mode": {
    "name": "ipython",
    "version": 3
   },
   "file_extension": ".py",
   "mimetype": "text/x-python",
   "name": "python",
   "nbconvert_exporter": "python",
   "pygments_lexer": "ipython3",
   "version": "3.6.0"
  }
 },
 "nbformat": 4,
 "nbformat_minor": 2
}
